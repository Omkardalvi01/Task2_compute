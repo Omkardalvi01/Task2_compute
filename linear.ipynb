{
 "cells": [
  {
   "cell_type": "code",
   "execution_count": 174,
   "metadata": {},
   "outputs": [],
   "source": [
    "import pandas as pd\n",
    "import numpy as np"
   ]
  },
  {
   "cell_type": "code",
   "execution_count": 175,
   "metadata": {},
   "outputs": [
    {
     "data": {
      "text/html": [
       "<div>\n",
       "<style scoped>\n",
       "    .dataframe tbody tr th:only-of-type {\n",
       "        vertical-align: middle;\n",
       "    }\n",
       "\n",
       "    .dataframe tbody tr th {\n",
       "        vertical-align: top;\n",
       "    }\n",
       "\n",
       "    .dataframe thead th {\n",
       "        text-align: right;\n",
       "    }\n",
       "</style>\n",
       "<table border=\"1\" class=\"dataframe\">\n",
       "  <thead>\n",
       "    <tr style=\"text-align: right;\">\n",
       "      <th></th>\n",
       "      <th>Avg_hours_studied</th>\n",
       "      <th>last_exam_Score</th>\n",
       "      <th>hours_slept_before_exam</th>\n",
       "      <th>percentage_result</th>\n",
       "    </tr>\n",
       "  </thead>\n",
       "  <tbody>\n",
       "    <tr>\n",
       "      <th>0</th>\n",
       "      <td>7</td>\n",
       "      <td>99</td>\n",
       "      <td>9</td>\n",
       "      <td>91</td>\n",
       "    </tr>\n",
       "    <tr>\n",
       "      <th>1</th>\n",
       "      <td>4</td>\n",
       "      <td>82</td>\n",
       "      <td>4</td>\n",
       "      <td>65</td>\n",
       "    </tr>\n",
       "    <tr>\n",
       "      <th>2</th>\n",
       "      <td>8</td>\n",
       "      <td>51</td>\n",
       "      <td>7</td>\n",
       "      <td>45</td>\n",
       "    </tr>\n",
       "    <tr>\n",
       "      <th>3</th>\n",
       "      <td>5</td>\n",
       "      <td>52</td>\n",
       "      <td>5</td>\n",
       "      <td>36</td>\n",
       "    </tr>\n",
       "    <tr>\n",
       "      <th>4</th>\n",
       "      <td>7</td>\n",
       "      <td>75</td>\n",
       "      <td>8</td>\n",
       "      <td>66</td>\n",
       "    </tr>\n",
       "  </tbody>\n",
       "</table>\n",
       "</div>"
      ],
      "text/plain": [
       "   Avg_hours_studied  last_exam_Score  hours_slept_before_exam  \\\n",
       "0                  7               99                        9   \n",
       "1                  4               82                        4   \n",
       "2                  8               51                        7   \n",
       "3                  5               52                        5   \n",
       "4                  7               75                        8   \n",
       "\n",
       "   percentage_result  \n",
       "0                 91  \n",
       "1                 65  \n",
       "2                 45  \n",
       "3                 36  \n",
       "4                 66  "
      ]
     },
     "execution_count": 175,
     "metadata": {},
     "output_type": "execute_result"
    }
   ],
   "source": [
    "data = pd.read_csv('lin-reg-from-scratch.csv')\n",
    "data.head()"
   ]
  },
  {
   "cell_type": "code",
   "execution_count": 176,
   "metadata": {},
   "outputs": [
    {
     "data": {
      "text/plain": [
       "Avg_hours_studied          0\n",
       "last_exam_Score            0\n",
       "hours_slept_before_exam    0\n",
       "percentage_result          0\n",
       "dtype: int64"
      ]
     },
     "execution_count": 176,
     "metadata": {},
     "output_type": "execute_result"
    }
   ],
   "source": [
    "data.isna().sum()"
   ]
  },
  {
   "cell_type": "code",
   "execution_count": 177,
   "metadata": {},
   "outputs": [],
   "source": [
    "def compute_cost(x,y,w,b,lbda = 0.01):\n",
    "    m,n = x.shape\n",
    "    cost = 0\n",
    "    reg = 0\n",
    "    for i in range(m):\n",
    "        loss_i = (np.dot(w,x[i]) + b) - y[i]\n",
    "        cost += (loss_i)**2\n",
    "    cost /= 2*m\n",
    "    for i in range(n):\n",
    "        reg += w[i] ** 2\n",
    "    reg = (lbda / (2 * m)) * reg \n",
    "    cost += reg\n",
    "    return cost"
   ]
  },
  {
   "cell_type": "code",
   "execution_count": 178,
   "metadata": {},
   "outputs": [],
   "source": [
    "def compute_gradient(x, y, w, b, lbda = 0.01):\n",
    "    m, n = x.shape\n",
    "    dj_dw = np.zeros((n,))\n",
    "    dj_db = 0\n",
    "\n",
    "    for i in range(m):\n",
    "        err = (np.dot(w, x[i]) + b - y[i])\n",
    "        for j in range(n):\n",
    "            dj_dw[j] += err * x[i, j]\n",
    "        dj_db += err\n",
    "    \n",
    "    dj_dw /= m\n",
    "    dj_db /= m\n",
    "\n",
    "    for j in range(n):\n",
    "        dj_dw[j] = dj_dw[j] + (lbda/m) * w[j]\n",
    "    return dj_dw, dj_db"
   ]
  },
  {
   "cell_type": "code",
   "execution_count": 179,
   "metadata": {},
   "outputs": [],
   "source": [
    "def gradient_descent(x,y,alpha,num_of_iter):\n",
    "    m,n = x.shape\n",
    "    w = np.zeros(shape=n)\n",
    "    b = 0\n",
    "    for i in range(num_of_iter):\n",
    "        dj_dw,dj_db = compute_gradient(x,y,w,b)\n",
    "        w -= alpha*dj_dw\n",
    "        b -= alpha*dj_db\n",
    "        if(i % 1000 == 0):\n",
    "            print(f'Cost at {i} : {compute_cost(x,y,w,b)}', end='\\n')\n",
    "    return w,b"
   ]
  },
  {
   "cell_type": "code",
   "execution_count": 180,
   "metadata": {},
   "outputs": [],
   "source": [
    "def predict(x_train,y_train,apha,num_of_iter, x_test):\n",
    "    w,b = gradient_descent(x_train,y_train,apha,num_of_iter)\n",
    "    m = x_test.shape[0]\n",
    "    yhat = np.zeros(shape=m)\n",
    "    for i in range(m):\n",
    "        yhat[i] += np.dot(w,x_test[i]) + b\n",
    "    return yhat"
   ]
  },
  {
   "cell_type": "code",
   "execution_count": 181,
   "metadata": {},
   "outputs": [],
   "source": [
    "x= data.drop(['percentage_result'],axis=1)\n",
    "y = data['percentage_result']\n",
    "x = x.to_numpy()\n",
    "y = y.to_numpy()"
   ]
  },
  {
   "cell_type": "code",
   "execution_count": 182,
   "metadata": {},
   "outputs": [],
   "source": [
    "from sklearn.preprocessing import MinMaxScaler\n",
    "scaler = MinMaxScaler()\n",
    "x_norm = scaler.fit_transform(x)"
   ]
  },
  {
   "cell_type": "code",
   "execution_count": 183,
   "metadata": {},
   "outputs": [],
   "source": [
    "from sklearn.model_selection import train_test_split\n",
    "x_train, x_test, y_train, y_test = train_test_split(x_norm,y,train_size = 0.2,random_state=100)"
   ]
  },
  {
   "cell_type": "code",
   "execution_count": 185,
   "metadata": {},
   "outputs": [
    {
     "name": "stdout",
     "output_type": "stream",
     "text": [
      "Cost at 0 : 1603.218636058449\n",
      "Cost at 1000 : 22.24664139131719\n",
      "Cost at 2000 : 7.216025081949513\n",
      "Cost at 3000 : 3.7064971992959284\n",
      "Cost at 4000 : 2.7082629006690007\n",
      "Cost at 5000 : 2.391436920672397\n",
      "Cost at 6000 : 2.285861607700832\n",
      "Cost at 7000 : 2.2499885100611894\n",
      "Cost at 8000 : 2.2377076009068317\n",
      "Cost at 9000 : 2.2334913220468837\n",
      "Cost at 10000 : 2.2320422236466926\n",
      "mse: 4.592997566179616 rmse: 2.1431279864206934 r2: 0.9874619137479597\n"
     ]
    }
   ],
   "source": [
    "from sklearn.metrics import mean_squared_error, root_mean_squared_error, r2_score\n",
    "result = predict(x_train,y_train, 0.01, 10001, x_test)\n",
    "mse = mean_squared_error(result,y_test)\n",
    "rmse = root_mean_squared_error(result,y_test)\n",
    "rsq = r2_score(result, y_test)\n",
    "print(f'mse: {mse} rmse: {rmse} r2: {rsq}')"
   ]
  }
 ],
 "metadata": {
  "kernelspec": {
   "display_name": "Python 3",
   "language": "python",
   "name": "python3"
  },
  "language_info": {
   "codemirror_mode": {
    "name": "ipython",
    "version": 3
   },
   "file_extension": ".py",
   "mimetype": "text/x-python",
   "name": "python",
   "nbconvert_exporter": "python",
   "pygments_lexer": "ipython3",
   "version": "3.12.0"
  }
 },
 "nbformat": 4,
 "nbformat_minor": 2
}
